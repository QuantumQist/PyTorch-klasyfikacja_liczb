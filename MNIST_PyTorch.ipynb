{
  "nbformat": 4,
  "nbformat_minor": 0,
  "metadata": {
    "colab": {
      "provenance": [],
      "authorship_tag": "ABX9TyOARkht0aFTwdocn97krGTc",
      "include_colab_link": true
    },
    "kernelspec": {
      "name": "python3",
      "display_name": "Python 3"
    },
    "language_info": {
      "name": "python"
    },
    "widgets": {
      "application/vnd.jupyter.widget-state+json": {
        "aa2dc972c87d4a8c8ad9fdaffce09afa": {
          "model_module": "@jupyter-widgets/controls",
          "model_name": "HBoxModel",
          "model_module_version": "1.5.0",
          "state": {
            "_dom_classes": [],
            "_model_module": "@jupyter-widgets/controls",
            "_model_module_version": "1.5.0",
            "_model_name": "HBoxModel",
            "_view_count": null,
            "_view_module": "@jupyter-widgets/controls",
            "_view_module_version": "1.5.0",
            "_view_name": "HBoxView",
            "box_style": "",
            "children": [
              "IPY_MODEL_08f76adb5e0546b9b8af04b024f6bc12",
              "IPY_MODEL_d959938de43947dda930b5982d82d0d6",
              "IPY_MODEL_ef6e3b8c199842f0a78ab58bb75de1a5"
            ],
            "layout": "IPY_MODEL_e4610723ab884a71b5dac66deacf7c38"
          }
        },
        "08f76adb5e0546b9b8af04b024f6bc12": {
          "model_module": "@jupyter-widgets/controls",
          "model_name": "HTMLModel",
          "model_module_version": "1.5.0",
          "state": {
            "_dom_classes": [],
            "_model_module": "@jupyter-widgets/controls",
            "_model_module_version": "1.5.0",
            "_model_name": "HTMLModel",
            "_view_count": null,
            "_view_module": "@jupyter-widgets/controls",
            "_view_module_version": "1.5.0",
            "_view_name": "HTMLView",
            "description": "",
            "description_tooltip": null,
            "layout": "IPY_MODEL_4a0de3061ede48358c69aeb9368c7ea3",
            "placeholder": "​",
            "style": "IPY_MODEL_e3eb695290ec443e88d29c035cc58644",
            "value": "100%"
          }
        },
        "d959938de43947dda930b5982d82d0d6": {
          "model_module": "@jupyter-widgets/controls",
          "model_name": "FloatProgressModel",
          "model_module_version": "1.5.0",
          "state": {
            "_dom_classes": [],
            "_model_module": "@jupyter-widgets/controls",
            "_model_module_version": "1.5.0",
            "_model_name": "FloatProgressModel",
            "_view_count": null,
            "_view_module": "@jupyter-widgets/controls",
            "_view_module_version": "1.5.0",
            "_view_name": "ProgressView",
            "bar_style": "success",
            "description": "",
            "description_tooltip": null,
            "layout": "IPY_MODEL_be3caf186b3746a8b58c24b69689cf6f",
            "max": 10,
            "min": 0,
            "orientation": "horizontal",
            "style": "IPY_MODEL_068470e6e2de42e1aaaa448587ff4419",
            "value": 10
          }
        },
        "ef6e3b8c199842f0a78ab58bb75de1a5": {
          "model_module": "@jupyter-widgets/controls",
          "model_name": "HTMLModel",
          "model_module_version": "1.5.0",
          "state": {
            "_dom_classes": [],
            "_model_module": "@jupyter-widgets/controls",
            "_model_module_version": "1.5.0",
            "_model_name": "HTMLModel",
            "_view_count": null,
            "_view_module": "@jupyter-widgets/controls",
            "_view_module_version": "1.5.0",
            "_view_name": "HTMLView",
            "description": "",
            "description_tooltip": null,
            "layout": "IPY_MODEL_325f0bcc76284b4f809a279019afcd6d",
            "placeholder": "​",
            "style": "IPY_MODEL_c1f78ffcd9024230b8060a733d51952e",
            "value": " 10/10 [02:01&lt;00:00, 12.23s/it]"
          }
        },
        "e4610723ab884a71b5dac66deacf7c38": {
          "model_module": "@jupyter-widgets/base",
          "model_name": "LayoutModel",
          "model_module_version": "1.2.0",
          "state": {
            "_model_module": "@jupyter-widgets/base",
            "_model_module_version": "1.2.0",
            "_model_name": "LayoutModel",
            "_view_count": null,
            "_view_module": "@jupyter-widgets/base",
            "_view_module_version": "1.2.0",
            "_view_name": "LayoutView",
            "align_content": null,
            "align_items": null,
            "align_self": null,
            "border": null,
            "bottom": null,
            "display": null,
            "flex": null,
            "flex_flow": null,
            "grid_area": null,
            "grid_auto_columns": null,
            "grid_auto_flow": null,
            "grid_auto_rows": null,
            "grid_column": null,
            "grid_gap": null,
            "grid_row": null,
            "grid_template_areas": null,
            "grid_template_columns": null,
            "grid_template_rows": null,
            "height": null,
            "justify_content": null,
            "justify_items": null,
            "left": null,
            "margin": null,
            "max_height": null,
            "max_width": null,
            "min_height": null,
            "min_width": null,
            "object_fit": null,
            "object_position": null,
            "order": null,
            "overflow": null,
            "overflow_x": null,
            "overflow_y": null,
            "padding": null,
            "right": null,
            "top": null,
            "visibility": null,
            "width": null
          }
        },
        "4a0de3061ede48358c69aeb9368c7ea3": {
          "model_module": "@jupyter-widgets/base",
          "model_name": "LayoutModel",
          "model_module_version": "1.2.0",
          "state": {
            "_model_module": "@jupyter-widgets/base",
            "_model_module_version": "1.2.0",
            "_model_name": "LayoutModel",
            "_view_count": null,
            "_view_module": "@jupyter-widgets/base",
            "_view_module_version": "1.2.0",
            "_view_name": "LayoutView",
            "align_content": null,
            "align_items": null,
            "align_self": null,
            "border": null,
            "bottom": null,
            "display": null,
            "flex": null,
            "flex_flow": null,
            "grid_area": null,
            "grid_auto_columns": null,
            "grid_auto_flow": null,
            "grid_auto_rows": null,
            "grid_column": null,
            "grid_gap": null,
            "grid_row": null,
            "grid_template_areas": null,
            "grid_template_columns": null,
            "grid_template_rows": null,
            "height": null,
            "justify_content": null,
            "justify_items": null,
            "left": null,
            "margin": null,
            "max_height": null,
            "max_width": null,
            "min_height": null,
            "min_width": null,
            "object_fit": null,
            "object_position": null,
            "order": null,
            "overflow": null,
            "overflow_x": null,
            "overflow_y": null,
            "padding": null,
            "right": null,
            "top": null,
            "visibility": null,
            "width": null
          }
        },
        "e3eb695290ec443e88d29c035cc58644": {
          "model_module": "@jupyter-widgets/controls",
          "model_name": "DescriptionStyleModel",
          "model_module_version": "1.5.0",
          "state": {
            "_model_module": "@jupyter-widgets/controls",
            "_model_module_version": "1.5.0",
            "_model_name": "DescriptionStyleModel",
            "_view_count": null,
            "_view_module": "@jupyter-widgets/base",
            "_view_module_version": "1.2.0",
            "_view_name": "StyleView",
            "description_width": ""
          }
        },
        "be3caf186b3746a8b58c24b69689cf6f": {
          "model_module": "@jupyter-widgets/base",
          "model_name": "LayoutModel",
          "model_module_version": "1.2.0",
          "state": {
            "_model_module": "@jupyter-widgets/base",
            "_model_module_version": "1.2.0",
            "_model_name": "LayoutModel",
            "_view_count": null,
            "_view_module": "@jupyter-widgets/base",
            "_view_module_version": "1.2.0",
            "_view_name": "LayoutView",
            "align_content": null,
            "align_items": null,
            "align_self": null,
            "border": null,
            "bottom": null,
            "display": null,
            "flex": null,
            "flex_flow": null,
            "grid_area": null,
            "grid_auto_columns": null,
            "grid_auto_flow": null,
            "grid_auto_rows": null,
            "grid_column": null,
            "grid_gap": null,
            "grid_row": null,
            "grid_template_areas": null,
            "grid_template_columns": null,
            "grid_template_rows": null,
            "height": null,
            "justify_content": null,
            "justify_items": null,
            "left": null,
            "margin": null,
            "max_height": null,
            "max_width": null,
            "min_height": null,
            "min_width": null,
            "object_fit": null,
            "object_position": null,
            "order": null,
            "overflow": null,
            "overflow_x": null,
            "overflow_y": null,
            "padding": null,
            "right": null,
            "top": null,
            "visibility": null,
            "width": null
          }
        },
        "068470e6e2de42e1aaaa448587ff4419": {
          "model_module": "@jupyter-widgets/controls",
          "model_name": "ProgressStyleModel",
          "model_module_version": "1.5.0",
          "state": {
            "_model_module": "@jupyter-widgets/controls",
            "_model_module_version": "1.5.0",
            "_model_name": "ProgressStyleModel",
            "_view_count": null,
            "_view_module": "@jupyter-widgets/base",
            "_view_module_version": "1.2.0",
            "_view_name": "StyleView",
            "bar_color": null,
            "description_width": ""
          }
        },
        "325f0bcc76284b4f809a279019afcd6d": {
          "model_module": "@jupyter-widgets/base",
          "model_name": "LayoutModel",
          "model_module_version": "1.2.0",
          "state": {
            "_model_module": "@jupyter-widgets/base",
            "_model_module_version": "1.2.0",
            "_model_name": "LayoutModel",
            "_view_count": null,
            "_view_module": "@jupyter-widgets/base",
            "_view_module_version": "1.2.0",
            "_view_name": "LayoutView",
            "align_content": null,
            "align_items": null,
            "align_self": null,
            "border": null,
            "bottom": null,
            "display": null,
            "flex": null,
            "flex_flow": null,
            "grid_area": null,
            "grid_auto_columns": null,
            "grid_auto_flow": null,
            "grid_auto_rows": null,
            "grid_column": null,
            "grid_gap": null,
            "grid_row": null,
            "grid_template_areas": null,
            "grid_template_columns": null,
            "grid_template_rows": null,
            "height": null,
            "justify_content": null,
            "justify_items": null,
            "left": null,
            "margin": null,
            "max_height": null,
            "max_width": null,
            "min_height": null,
            "min_width": null,
            "object_fit": null,
            "object_position": null,
            "order": null,
            "overflow": null,
            "overflow_x": null,
            "overflow_y": null,
            "padding": null,
            "right": null,
            "top": null,
            "visibility": null,
            "width": null
          }
        },
        "c1f78ffcd9024230b8060a733d51952e": {
          "model_module": "@jupyter-widgets/controls",
          "model_name": "DescriptionStyleModel",
          "model_module_version": "1.5.0",
          "state": {
            "_model_module": "@jupyter-widgets/controls",
            "_model_module_version": "1.5.0",
            "_model_name": "DescriptionStyleModel",
            "_view_count": null,
            "_view_module": "@jupyter-widgets/base",
            "_view_module_version": "1.2.0",
            "_view_name": "StyleView",
            "description_width": ""
          }
        }
      }
    }
  },
  "cells": [
    {
      "cell_type": "markdown",
      "metadata": {
        "id": "view-in-github",
        "colab_type": "text"
      },
      "source": [
        "<a href=\"https://colab.research.google.com/github/QuantumQist/PyTorch-klasyfikacja_liczb/blob/main/MNIST_PyTorch.ipynb\" target=\"_parent\"><img src=\"https://colab.research.google.com/assets/colab-badge.svg\" alt=\"Open In Colab\"/></a>"
      ]
    },
    {
      "cell_type": "code",
      "source": [
        "import torch, torchvision\n",
        "from torch import nn\n",
        "\n",
        "import numpy as np\n",
        "import matplotlib.pyplot as plt\n",
        "from tqdm.auto import tqdm"
      ],
      "metadata": {
        "id": "X2EoIFzpgDGF"
      },
      "execution_count": 47,
      "outputs": []
    },
    {
      "cell_type": "markdown",
      "source": [
        "# PyTorch - klasyfikacja MNIST"
      ],
      "metadata": {
        "id": "fLbSW5ZNTjfC"
      }
    },
    {
      "cell_type": "markdown",
      "source": [
        "# 1. Załadowanie danych"
      ],
      "metadata": {
        "id": "f5TEBo4NTf9a"
      }
    },
    {
      "cell_type": "markdown",
      "source": [
        "## 1.1. Datasety"
      ],
      "metadata": {
        "id": "8NvtiPEUVV4M"
      }
    },
    {
      "cell_type": "code",
      "source": [
        "train_dataset = torchvision.datasets.MNIST(\n",
        "    root = \"data\",\n",
        "    download = True,\n",
        "    train = True,\n",
        "    transform = torchvision.transforms.ToTensor()\n",
        ")\n",
        "\n",
        "test_dataset = torchvision.datasets.MNIST(\n",
        "    root = \"data\",\n",
        "    download = True,\n",
        "    train = False,\n",
        "    transform = torchvision.transforms.ToTensor()\n",
        ")"
      ],
      "metadata": {
        "id": "-A7wWN3xTAqO"
      },
      "execution_count": 48,
      "outputs": []
    },
    {
      "cell_type": "markdown",
      "source": [
        "## 1.2. Elementy datasetów"
      ],
      "metadata": {
        "id": "P1_H4uXVTsaM"
      }
    },
    {
      "cell_type": "code",
      "source": [
        "IDX = 42\n",
        "\n",
        "image, label = test_dataset[42]\n",
        "\n",
        "plt.imshow(image.squeeze().numpy(), cmap = \"gray\")\n",
        "plt.axis(False)\n",
        "\n",
        "label"
      ],
      "metadata": {
        "colab": {
          "base_uri": "https://localhost:8080/",
          "height": 423
        },
        "id": "Qa2PZTFVT1WH",
        "outputId": "aa62dd94-31a1-40cf-d097-3f2155ac8579"
      },
      "execution_count": 49,
      "outputs": [
        {
          "output_type": "execute_result",
          "data": {
            "text/plain": [
              "4"
            ]
          },
          "metadata": {},
          "execution_count": 49
        },
        {
          "output_type": "display_data",
          "data": {
            "text/plain": [
              "<Figure size 640x480 with 1 Axes>"
            ],
            "image/png": "[encoded data removed]"
          },
          "metadata": {}
        }
      ]
    },
    {
      "cell_type": "markdown",
      "source": [
        "## 1.3. DataLoader"
      ],
      "metadata": {
        "id": "IHvY4BzETvxB"
      }
    },
    {
      "cell_type": "code",
      "source": [
        "BATCH_SIZE = 64\n",
        "\n",
        "train_dataloader = torch.utils.data.DataLoader(\n",
        "    dataset = train_dataset,\n",
        "    batch_size = BATCH_SIZE,\n",
        "    shuffle = True,\n",
        "    drop_last = True\n",
        ")\n",
        "test_dataloader = torch.utils.data.DataLoader(\n",
        "    dataset = test_dataset,\n",
        "    batch_size = BATCH_SIZE,\n",
        "    shuffle = True,\n",
        "    drop_last = True\n",
        ")"
      ],
      "metadata": {
        "id": "onMDcZysfLjj"
      },
      "execution_count": 50,
      "outputs": []
    },
    {
      "cell_type": "markdown",
      "source": [
        "### 1.4. Elementy DataLoaderów"
      ],
      "metadata": {
        "id": "jyToovC-T4_m"
      }
    },
    {
      "cell_type": "code",
      "source": [
        "dataloader_element = next(iter(train_dataloader))\n",
        "\n",
        "dataloader_element[0].shape"
      ],
      "metadata": {
        "colab": {
          "base_uri": "https://localhost:8080/"
        },
        "id": "hQ9XPrwvT8QD",
        "outputId": "7cfd8712-6cbd-4893-9894-184410aaf1ec"
      },
      "execution_count": 51,
      "outputs": [
        {
          "output_type": "execute_result",
          "data": {
            "text/plain": [
              "torch.Size([64, 1, 28, 28])"
            ]
          },
          "metadata": {},
          "execution_count": 51
        }
      ]
    },
    {
      "cell_type": "markdown",
      "source": [
        "# 2. Sieć neuronowa"
      ],
      "metadata": {
        "id": "seMNuqTLUC7g"
      }
    },
    {
      "cell_type": "markdown",
      "source": [
        "## 2.1. Postawienie sieci"
      ],
      "metadata": {
        "id": "9BD1-wkDVTEM"
      }
    },
    {
      "cell_type": "code",
      "source": [
        "model = nn.Sequential(\n",
        "    nn.Flatten(),\n",
        "    nn.Linear(784, 100),\n",
        "    nn.ReLU(),\n",
        "    nn.Linear(100, 100),\n",
        "    nn.ReLU(),\n",
        "    nn.Linear(100,10)\n",
        ")"
      ],
      "metadata": {
        "id": "YZTVHiKcUKBp"
      },
      "execution_count": 52,
      "outputs": []
    },
    {
      "cell_type": "markdown",
      "source": [
        "## 2.2. Dummy forward pass"
      ],
      "metadata": {
        "id": "jYHuA6i1UNu_"
      }
    },
    {
      "cell_type": "code",
      "source": [
        "image, _ = test_dataset[52]\n",
        "image = image.unsqueeze(dim=0)\n",
        "print(f\"Input shape: {image.shape}\\n---------\")\n",
        "with torch.inference_mode():\n",
        "    model_output = model(image)\n",
        "print(f\"Model output shape: {model_output.shape}\")\n",
        "\n",
        "softmax_layer = nn.Softmax(dim = -1)\n",
        "output = softmax_layer(model_output)\n",
        "\n",
        "torch.sum(output)\n"
      ],
      "metadata": {
        "colab": {
          "base_uri": "https://localhost:8080/"
        },
        "id": "cpzdBjAnUR-Z",
        "outputId": "1df7be1a-5365-4387-bbd5-7988ddcb39b1"
      },
      "execution_count": 53,
      "outputs": [
        {
          "output_type": "stream",
          "name": "stdout",
          "text": [
            "Input shape: torch.Size([1, 1, 28, 28])\n",
            "---------\n",
            "Model output shape: torch.Size([1, 10])\n"
          ]
        },
        {
          "output_type": "execute_result",
          "data": {
            "text/plain": [
              "tensor(1.0000)"
            ]
          },
          "metadata": {},
          "execution_count": 53
        }
      ]
    },
    {
      "cell_type": "code",
      "source": [
        "model_output"
      ],
      "metadata": {
        "colab": {
          "base_uri": "https://localhost:8080/"
        },
        "id": "nfG2IpShrgZi",
        "outputId": "4810decc-f005-46d8-b24b-50a9e030928e"
      },
      "execution_count": 54,
      "outputs": [
        {
          "output_type": "execute_result",
          "data": {
            "text/plain": [
              "tensor([[ 0.0219,  0.0566, -0.0609,  0.1209, -0.0968,  0.0180, -0.1218,  0.0683,\n",
              "         -0.0797, -0.1171]])"
            ]
          },
          "metadata": {},
          "execution_count": 54
        }
      ]
    },
    {
      "cell_type": "markdown",
      "source": [
        "## 2.3. Ewaluacja sieci."
      ],
      "metadata": {
        "id": "5nj_rh_0Ua3O"
      }
    },
    {
      "cell_type": "code",
      "source": [
        "def get_accuracy(\n",
        "        model: nn.Module,\n",
        "        dataset: torch.utils.data.Dataset):\n",
        "    \"\"\"\n",
        "    Computes model accuracy on a given dataset\n",
        "    \"\"\"\n",
        "    correct_preds = 0\n",
        "\n",
        "    model.eval()\n",
        "\n",
        "    for element in dataset:\n",
        "        # Get feature and label\n",
        "        X, y = element\n",
        "        X = X.unsqueeze(dim = 0)\n",
        "        # Get prediction\n",
        "        with torch.inference_mode():\n",
        "            y_logits = model(X)\n",
        "        # Get maximum element\n",
        "        prediction = torch.argmax(y_logits, dim = -1 ).item()\n",
        "        if prediction == y:\n",
        "            correct_preds += 1\n",
        "\n",
        "    return correct_preds / len(dataset)"
      ],
      "metadata": {
        "id": "mlJ3z6FkUdyd"
      },
      "execution_count": 83,
      "outputs": []
    },
    {
      "cell_type": "code",
      "source": [
        "acc = get_accuracy(\n",
        "    model = model,\n",
        "    dataset = test_dataset\n",
        ")\n",
        "acc"
      ],
      "metadata": {
        "colab": {
          "base_uri": "https://localhost:8080/"
        },
        "id": "klJLmWlSuSha",
        "outputId": "44c0080d-6c10-4913-d109-d3fe3af405d2"
      },
      "execution_count": 56,
      "outputs": [
        {
          "output_type": "execute_result",
          "data": {
            "text/plain": [
              "0.1008"
            ]
          },
          "metadata": {},
          "execution_count": 56
        }
      ]
    },
    {
      "cell_type": "markdown",
      "source": [
        "# 3. Pętla treningowa"
      ],
      "metadata": {
        "id": "RYMXf4HyUSbG"
      }
    },
    {
      "cell_type": "markdown",
      "source": [
        "## 3.1. Funkcja strat (*criterion*) i optimizer.\n",
        "\n"
      ],
      "metadata": {
        "id": "P4i376PIVQW2"
      }
    },
    {
      "cell_type": "code",
      "source": [
        "loss_fn = nn.CrossEntropyLoss()\n",
        "\n",
        "optimizer = torch.optim.Adam( model.parameters() )"
      ],
      "metadata": {
        "id": "_qvWxSGMUm-_"
      },
      "execution_count": 57,
      "outputs": []
    },
    {
      "cell_type": "markdown",
      "source": [
        "## 3.2. Funkcja definiująca pętlę treningową."
      ],
      "metadata": {
        "id": "-T09A5-kVoOH"
      }
    },
    {
      "cell_type": "code",
      "source": [
        "def train_model(epochs: int,\n",
        "                model: nn.Module,\n",
        "                train_dataloader: torch.utils.data.DataLoader,\n",
        "                test_dataloader: torch.utils.data.DataLoader,\n",
        "                loss_fn: nn.Module,\n",
        "                optimizer: torch.optim.Optimizer):\n",
        "\n",
        "    train_loss_list, test_loss_list = [], []\n",
        "\n",
        "    # Loop over epochs\n",
        "    for epoch in tqdm(range(epochs)):\n",
        "\n",
        "        ### Training step\n",
        "        model.train()\n",
        "        # Loop over batch\n",
        "        train_loss = 0\n",
        "        for batch, (X, y) in enumerate(train_dataloader):\n",
        "            # Forward pass\n",
        "            y_logits = model(X)\n",
        "            # Calculate the loss\n",
        "            loss = loss_fn(y_logits, y)\n",
        "            train_loss += loss.item()\n",
        "            # Zero gradients\n",
        "            optimizer.zero_grad()\n",
        "            # Backpropagation\n",
        "            loss.backward()\n",
        "            # Optimizer step\n",
        "            optimizer.step()\n",
        "\n",
        "        ### Testing step\n",
        "        model.eval()\n",
        "\n",
        "        test_loss = 0\n",
        "        # Loop over batches\n",
        "        for batch, (X, y) in enumerate(test_dataloader):\n",
        "            # Forward pass\n",
        "            with torch.inference_mode():\n",
        "                y_logits = model(X)\n",
        "            # Calculate the loss\n",
        "            loss = loss_fn(y_logits, y).item()\n",
        "            test_loss += loss\n",
        "\n",
        "        train_loss_list.append( train_loss / len(train_dataloader) )\n",
        "        test_loss_list.append( test_loss / len(test_dataloader) )\n",
        "\n",
        "    return {\"train_loss\": train_loss_list, \"test_loss\": test_loss_list}"
      ],
      "metadata": {
        "id": "cnQ4a6K2VrSG"
      },
      "execution_count": 74,
      "outputs": []
    },
    {
      "cell_type": "code",
      "source": [
        "len(train_dataloader), len(test_dataloader)"
      ],
      "metadata": {
        "colab": {
          "base_uri": "https://localhost:8080/"
        },
        "id": "r5DpYvFo91hb",
        "outputId": "03db0a20-646a-449c-95d6-8dd8b8a083a3"
      },
      "execution_count": 75,
      "outputs": [
        {
          "output_type": "execute_result",
          "data": {
            "text/plain": [
              "(937, 156)"
            ]
          },
          "metadata": {},
          "execution_count": 75
        }
      ]
    },
    {
      "cell_type": "markdown",
      "source": [
        "## 3.3. Trening sieci"
      ],
      "metadata": {
        "id": "hAcYIhD4UXij"
      }
    },
    {
      "cell_type": "code",
      "source": [
        "model = nn.Sequential(\n",
        "    nn.Flatten(),\n",
        "    nn.Linear(784, 50),\n",
        "    nn.ReLU(),\n",
        "    nn.Linear(50, 50),\n",
        "    nn.ReLU(),\n",
        "    nn.Linear(50,10)\n",
        ")\n",
        "\n",
        "optimizer = torch.optim.Adam( model.parameters() )"
      ],
      "metadata": {
        "id": "T0NHwwt5UwA4"
      },
      "execution_count": 79,
      "outputs": []
    },
    {
      "cell_type": "code",
      "source": [
        "EPOCHS = 10\n",
        "\n",
        "results = train_model(\n",
        "    epochs = EPOCHS,\n",
        "    model = model,\n",
        "    train_dataloader = train_dataloader,\n",
        "    test_dataloader = test_dataloader,\n",
        "    optimizer = optimizer,\n",
        "    loss_fn = loss_fn\n",
        ")"
      ],
      "metadata": {
        "colab": {
          "base_uri": "https://localhost:8080/",
          "height": 49,
          "referenced_widgets": [
            "aa2dc972c87d4a8c8ad9fdaffce09afa",
            "08f76adb5e0546b9b8af04b024f6bc12",
            "d959938de43947dda930b5982d82d0d6",
            "ef6e3b8c199842f0a78ab58bb75de1a5",
            "e4610723ab884a71b5dac66deacf7c38",
            "4a0de3061ede48358c69aeb9368c7ea3",
            "e3eb695290ec443e88d29c035cc58644",
            "be3caf186b3746a8b58c24b69689cf6f",
            "068470e6e2de42e1aaaa448587ff4419",
            "325f0bcc76284b4f809a279019afcd6d",
            "c1f78ffcd9024230b8060a733d51952e"
          ]
        },
        "id": "HXuv10X3AgvM",
        "outputId": "e60f83ce-4dcf-4511-9f40-4f483c0d7d72"
      },
      "execution_count": 80,
      "outputs": [
        {
          "output_type": "display_data",
          "data": {
            "text/plain": [
              "  0%|          | 0/10 [00:00<?, ?it/s]"
            ],
            "application/vnd.jupyter.widget-view+json": {
              "version_major": 2,
              "version_minor": 0,
              "model_id": "aa2dc972c87d4a8c8ad9fdaffce09afa"
            }
          },
          "metadata": {}
        }
      ]
    },
    {
      "cell_type": "markdown",
      "source": [
        "## 3.4. Ewaluacja treningu - loss function"
      ],
      "metadata": {
        "id": "IelN5WczUx4h"
      }
    },
    {
      "cell_type": "code",
      "source": [
        "plt.plot(range(1, EPOCHS + 1), results[\"train_loss\"], label = \"Trening\")\n",
        "plt.plot(range(1, EPOCHS + 1), results[\"test_loss\"], label = \"Test\")\n",
        "plt.legend()\n",
        "plt.ylabel(\"Strata\")\n",
        "plt.xlabel(\"Epoka\")"
      ],
      "metadata": {
        "colab": {
          "base_uri": "https://localhost:8080/",
          "height": 466
        },
        "id": "lDsvpbjDBUWh",
        "outputId": "02a0ad89-427c-4e40-c472-fbd9c35c9fbb"
      },
      "execution_count": 81,
      "outputs": [
        {
          "output_type": "execute_result",
          "data": {
            "text/plain": [
              "Text(0.5, 0, 'Epoka')"
            ]
          },
          "metadata": {},
          "execution_count": 81
        },
        {
          "output_type": "display_data",
          "data": {
            "text/plain": [
              "<Figure size 640x480 with 1 Axes>"
            ],
            "image/png": "[encoded data removed]"
          },
          "metadata": {}
        }
      ]
    },
    {
      "cell_type": "code",
      "source": [],
      "metadata": {
        "id": "Ksm1V8OeU3ZQ"
      },
      "execution_count": 56,
      "outputs": []
    },
    {
      "cell_type": "markdown",
      "source": [
        "# 4. Ocena wytrenowanego modelu.\n",
        "\n"
      ],
      "metadata": {
        "id": "9_7fjqn0U6Pq"
      }
    },
    {
      "cell_type": "markdown",
      "source": [
        "## 4.1. Przewidywania na pojedynczym zdjęciu"
      ],
      "metadata": {
        "id": "Zj-20IvTVNj6"
      }
    },
    {
      "cell_type": "code",
      "source": [
        "RANDOM_IDX = np.random.randint(0, len(test_dataset))\n",
        "# Get image and label\n",
        "image, label = test_dataset[RANDOM_IDX]\n",
        "image.unsqueeze(dim = 0)\n",
        "# Forward pass\n",
        "model.eval()\n",
        "with torch.inference_mode():\n",
        "    y_logits = model(image)\n",
        "# Prediction\n",
        "prediction = torch.argmax(y_logits, dim = -1).item()\n",
        "\n",
        "image = image.squeeze().numpy()\n",
        "plt.imshow(image, cmap = 'gray')\n",
        "plt.axis(False)\n",
        "# Check if the prediciton is correct\n",
        "if prediction == label:\n",
        "    color = \"green\"\n",
        "else:\n",
        "    color = \"red\"\n",
        "plt.title(f\"Predicition: {prediction}\", color = color)"
      ],
      "metadata": {
        "colab": {
          "base_uri": "https://localhost:8080/",
          "height": 445
        },
        "id": "dREO4u2CVdSq",
        "outputId": "04d8439f-34f5-45b8-b7be-4f6c1625881b"
      },
      "execution_count": 95,
      "outputs": [
        {
          "output_type": "execute_result",
          "data": {
            "text/plain": [
              "Text(0.5, 1.0, 'Predicition: 6')"
            ]
          },
          "metadata": {},
          "execution_count": 95
        },
        {
          "output_type": "display_data",
          "data": {
            "text/plain": [
              "<Figure size 640x480 with 1 Axes>"
            ],
            "image/png": "[encoded data removed]"
          },
          "metadata": {}
        }
      ]
    },
    {
      "cell_type": "markdown",
      "source": [
        "### 4.2. Dokładność (accuracy) na pełnych danych testowych."
      ],
      "metadata": {
        "id": "oMSlcAuCVdtf"
      }
    },
    {
      "cell_type": "code",
      "source": [
        "acc_train = get_accuracy(\n",
        "    model = model,\n",
        "    dataset = train_dataset\n",
        ")\n",
        "acc_test = get_accuracy(\n",
        "    model = model,\n",
        "    dataset = test_dataset\n",
        ")"
      ],
      "metadata": {
        "colab": {
          "base_uri": "https://localhost:8080/"
        },
        "id": "N3ZXRj-ZVjCF",
        "outputId": "3321d52c-f7f1-46df-b2c6-7c2e4ff2232a"
      },
      "execution_count": 84,
      "outputs": [
        {
          "output_type": "stream",
          "name": "stdout",
          "text": [
            "Training data accuracy: 0.9858333333333333\n",
            "Testing data accuracy:  0.9724\n"
          ]
        }
      ]
    },
    {
      "cell_type": "code",
      "source": [
        "print(f\"Training data accuracy: {acc_train:.2f}\")\n",
        "print(f\"Testing data accuracy:  {acc_test:.2f}\")"
      ],
      "metadata": {
        "colab": {
          "base_uri": "https://localhost:8080/"
        },
        "id": "t7jqwb6iEvjB",
        "outputId": "316a3da1-f4d5-4f18-a214-0a318ee62b84"
      },
      "execution_count": 85,
      "outputs": [
        {
          "output_type": "stream",
          "name": "stdout",
          "text": [
            "Training data accuracy: 0.99\n",
            "Testing data accuracy:  0.97\n"
          ]
        }
      ]
    },
    {
      "cell_type": "code",
      "source": [],
      "metadata": {
        "id": "IoL7CcmSFRTi"
      },
      "execution_count": null,
      "outputs": []
    }
  ]
}